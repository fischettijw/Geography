{
 "cells": [
  {
   "cell_type": "code",
   "execution_count": 18,
   "metadata": {},
   "outputs": [
    {
     "name": "stdout",
     "output_type": "stream",
     "text": [
      "['BZ', 'DJ', 'ET', 'SN']\n"
     ]
    },
    {
     "data": {
      "text/html": [
       "\n",
       "        <iframe\n",
       "            width=\"200\"\n",
       "            height=\"100\"\n",
       "            src=\"https://www.worldometers.info//img/flags/small/tn_dj-flag.gif\"\n",
       "            frameborder=\"0\"\n",
       "            allowfullscreen\n",
       "            \n",
       "        ></iframe>\n",
       "        "
      ],
      "text/plain": [
       "<IPython.lib.display.IFrame at 0x15ab94a4c10>"
      ]
     },
     "metadata": {},
     "output_type": "display_data"
    },
    {
     "name": "stdout",
     "output_type": "stream",
     "text": [
      "BZ\n",
      "Sorry, 'BZ' is incorrect. The correct answer is 'DJ'.\n"
     ]
    }
   ],
   "source": [
    "import pandas as pd\n",
    "from IPython.display import IFrame, display\n",
    "from random import shuffle, sample\n",
    "df_flags = pd.read_csv(\"flags_iso.csv\")\n",
    "# print(df_flags)\n",
    "\n",
    "country_codes = df_flags[\"Alpha-2 code\"].to_list()\n",
    "# print(country_codes)\n",
    "\n",
    "choices= sample(country_codes, k=4)\n",
    "\n",
    "# print(choices)\n",
    "# shuffle(choices)\n",
    "answer = choices[0]\n",
    "# print(answer)\n",
    "\n",
    "shuffle(choices)\n",
    "\n",
    "flag_url = df_flags.loc[df_flags[\"Alpha-2 code\"]==answer][\"URL\"].iat[0]\n",
    "flag_image = IFrame(src=flag_url,width=200,height=100)\n",
    "print(choices)\n",
    "display(flag_image)\n",
    "\n",
    "userChoice = input(\"What flag is this? \")\n",
    "# userChoice = input(\"What flag is this? \" + choices[0] + \", \" + choices[1] + \", \" + choices[2] + \" or \" + choices[3] + \"?\")\n",
    "userChoice = userChoice.upper()\n",
    "print(userChoice)\n",
    "if userChoice == answer:\n",
    "    print(f\"'{userChoice}' is Correct!\")\n",
    "else:\n",
    "    print(f\"Sorry, '{userChoice}' is incorrect. The correct answer is '{answer}'.\")\n"
   ]
  }
 ],
 "metadata": {
  "kernelspec": {
   "display_name": "Python 3",
   "language": "python",
   "name": "python3"
  },
  "language_info": {
   "codemirror_mode": {
    "name": "ipython",
    "version": 3
   },
   "file_extension": ".py",
   "mimetype": "text/x-python",
   "name": "python",
   "nbconvert_exporter": "python",
   "pygments_lexer": "ipython3",
   "version": "3.11.4"
  }
 },
 "nbformat": 4,
 "nbformat_minor": 2
}
