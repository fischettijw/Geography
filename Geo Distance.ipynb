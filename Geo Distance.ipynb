{
 "cells": [
  {
   "cell_type": "code",
   "execution_count": 1,
   "metadata": {},
   "outputs": [
    {
     "name": "stdout",
     "output_type": "stream",
     "text": [
      "1093.879617973377\n"
     ]
    }
   ],
   "source": [
    "\n",
    "#!/usr/bin/env python\n",
    "\n",
    "# Haversine formula example in Python\n",
    "# Author: Wayne Dyck\n",
    "\n",
    "# https://gist.github.com/rochacbruno/2883505\n",
    "\n",
    "import math\n",
    "\n",
    "def distance(origin, destination):\n",
    "    lat1, lon1 = origin\n",
    "    lat2, lon2 = destination\n",
    "    radius = 6371 # radius of earth in km's\n",
    "\n",
    "    dlat = math.radians(lat2-lat1)\n",
    "    dlon = math.radians(lon2-lon1)\n",
    "    a = math.sin(dlat/2) * math.sin(dlat/2) + math.cos(math.radians(lat1)) \\\n",
    "        * math.cos(math.radians(lat2)) * math.sin(dlon/2) * math.sin(dlon/2)\n",
    "    c = 2 * math.atan2(math.sqrt(a), math.sqrt(1-a))\n",
    "    d = radius * c\n",
    "\n",
    "    return d\n",
    "\n",
    "cuba = (21.521757,-77.781167)\n",
    "bermuda = (32.321384,-64.75737)\n",
    "\n",
    "\n",
    "km =distance(cuba, bermuda)\n",
    "miles = 0.621371 * km\n",
    "\n",
    "print(miles)"
   ]
  },
  {
   "cell_type": "code",
   "execution_count": 2,
   "metadata": {},
   "outputs": [
    {
     "name": "stdout",
     "output_type": "stream",
     "text": [
      "23576.80548175197 meters\n",
      "23.57680548175197 km\n",
      "14.64994773134393 miles\n"
     ]
    }
   ],
   "source": [
    "from geopy.distance import geodesic\n",
    "\n",
    "origin = (30.172705, 31.526725)  # (latitude, longitude) \n",
    "dist = (30.288281, 31.732326)\n",
    "\n",
    "print(geodesic(origin, dist).meters, 'meters')  # 23576.805481751613\n",
    "print(geodesic(origin, dist).kilometers, 'km')  # 23.576805481751613\n",
    "print(geodesic(origin, dist).miles, 'miles')  # 14.64994773134371"
   ]
  },
  {
   "cell_type": "markdown",
   "metadata": {},
   "source": [
    "[Get Lat Long from Address](https://www.latlong.net/convert-address-to-lat-long.html)\n",
    "\n",
    "[Converting Addresses to/from Latitude/Longitude/Altitude in One Step](https://stevemorse.org/jcal/latlon.php)"
   ]
  },
  {
   "cell_type": "code",
   "execution_count": 3,
   "metadata": {},
   "outputs": [
    {
     "name": "stdout",
     "output_type": "stream",
     "text": [
      "624706.9745383965 meters\n",
      "624.7069745383965 km\n",
      "388.1749175679012 miles\n"
     ]
    }
   ],
   "source": [
    "from geopy.distance import geodesic\n",
    "\n",
    "max = (34.84303, -82.24805)  # 202 Reinbert St, Greenville, Sc 29615\n",
    "joe = (29.209419, -82.212540)  # 2210 NW 55th Avenue Rd, Ocala, FL 34482\n",
    "\n",
    "print(geodesic(max, joe).meters, 'meters')\n",
    "print(geodesic(max, joe).kilometers, 'km')\n",
    "print(geodesic(max, joe).miles, 'miles')"
   ]
  }
 ],
 "metadata": {
  "kernelspec": {
   "display_name": "Python 3",
   "language": "python",
   "name": "python3"
  },
  "language_info": {
   "codemirror_mode": {
    "name": "ipython",
    "version": 3
   },
   "file_extension": ".py",
   "mimetype": "text/x-python",
   "name": "python",
   "nbconvert_exporter": "python",
   "pygments_lexer": "ipython3",
   "version": "3.11.4"
  }
 },
 "nbformat": 4,
 "nbformat_minor": 2
}
