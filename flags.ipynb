{
 "cells": [
  {
   "cell_type": "code",
   "execution_count": 15,
   "metadata": {},
   "outputs": [
    {
     "data": {
      "text/html": [
       "\n",
       "        <iframe\n",
       "            width=\"200\"\n",
       "            height=\"100\"\n",
       "            src=\"https://www.worldometers.info//img/flags/small/tn_mx-flag.gif\"\n",
       "            frameborder=\"0\"\n",
       "            allowfullscreen\n",
       "            \n",
       "        ></iframe>\n",
       "        "
      ],
      "text/plain": [
       "<IPython.lib.display.IFrame at 0x201e4b0afd0>"
      ]
     },
     "metadata": {},
     "output_type": "display_data"
    },
    {
     "data": {
      "text/html": [
       "\n",
       "        <iframe\n",
       "            width=\"200\"\n",
       "            height=\"100\"\n",
       "            src=\"https://www.worldometers.info//img/flags/small/tn_jm-flag.gif\"\n",
       "            frameborder=\"0\"\n",
       "            allowfullscreen\n",
       "            \n",
       "        ></iframe>\n",
       "        "
      ],
      "text/plain": [
       "<IPython.lib.display.IFrame at 0x201e3de4890>"
      ]
     },
     "metadata": {},
     "output_type": "display_data"
    },
    {
     "data": {
      "text/html": [
       "\n",
       "        <iframe\n",
       "            width=\"200\"\n",
       "            height=\"100\"\n",
       "            src=\"https://www.worldometers.info//img/flags/small/tn_us-flag.gif\"\n",
       "            frameborder=\"0\"\n",
       "            allowfullscreen\n",
       "            \n",
       "        ></iframe>\n",
       "        "
      ],
      "text/plain": [
       "<IPython.lib.display.IFrame at 0x201e37f6f90>"
      ]
     },
     "metadata": {},
     "output_type": "display_data"
    },
    {
     "data": {
      "text/html": [
       "\n",
       "        <iframe\n",
       "            width=\"200\"\n",
       "            height=\"100\"\n",
       "            src=\"https://www.worldometers.info//img/flags/small/tn_ch-flag.gif\"\n",
       "            frameborder=\"0\"\n",
       "            allowfullscreen\n",
       "            \n",
       "        ></iframe>\n",
       "        "
      ],
      "text/plain": [
       "<IPython.lib.display.IFrame at 0x201e4b0b190>"
      ]
     },
     "metadata": {},
     "output_type": "display_data"
    }
   ],
   "source": [
    "from IPython.display import IFrame\n",
    "# flag_image = IFrame(src='https://www.google.com/logos/doodles/2023/seasonal-holidays-2023-6753651837110165-6752733080612631-cst.gif', width=200, height=100)\n",
    "flag_image = IFrame(src='https://www.worldometers.info//img/flags/small/tn_mx-flag.gif', width=200, height=100)\n",
    "display(flag_image)\n",
    "flag_image = IFrame(src='https://www.worldometers.info//img/flags/small/tn_jm-flag.gif', width=200, height=100)\n",
    "display(flag_image)\n",
    "flag_image = IFrame(src='https://www.worldometers.info//img/flags/small/tn_us-flag.gif', width=200, height=100)\n",
    "display(flag_image)\n",
    "flag_image = IFrame(src='https://www.worldometers.info//img/flags/small/tn_ch-flag.gif'  , width=200, height=100)\n",
    "display(flag_image)"
   ]
  },
  {
   "cell_type": "code",
   "execution_count": 16,
   "metadata": {},
   "outputs": [
    {
     "data": {
      "text/html": [
       "\n",
       "        <iframe\n",
       "            width=\"200\"\n",
       "            height=\"100\"\n",
       "            src=\"https://www.worldometers.info//img/flags/small/tn_us-flag.gif\"\n",
       "            frameborder=\"0\"\n",
       "            allowfullscreen\n",
       "            \n",
       "        ></iframe>\n",
       "        "
      ],
      "text/plain": [
       "<IPython.lib.display.IFrame at 0x201e4b0ffd0>"
      ]
     },
     "metadata": {},
     "output_type": "display_data"
    }
   ],
   "source": [
    "import pandas as pd\n",
    "from IPython.display import IFrame\n",
    "\n",
    "df_flags = pd.read_csv('flags_iso.csv')\n",
    "# display(df_flags)    # vs print\n",
    "flag_url = df_flags[\"URL\"][186]     # one less than csv because Header is 1\n",
    "# display(flag_url)\n",
    "flag_image = IFrame(src=flag_url, width=200, height=100)\n",
    "display(flag_image)"
   ]
  },
  {
   "cell_type": "code",
   "execution_count": 10,
   "metadata": {},
   "outputs": [
    {
     "data": {
      "text/plain": [
       "0      False\n",
       "1       True\n",
       "2      False\n",
       "3      False\n",
       "4      False\n",
       "       ...  \n",
       "190    False\n",
       "191    False\n",
       "192    False\n",
       "193    False\n",
       "194    False\n",
       "Name: Alpha-2 code, Length: 195, dtype: bool"
      ]
     },
     "metadata": {},
     "output_type": "display_data"
    },
    {
     "data": {
      "text/html": [
       "\n",
       "        <iframe\n",
       "            width=\"200\"\n",
       "            height=\"100\"\n",
       "            src=\"https://www.worldometers.info//img/flags/small/tn_al-flag.gif\"\n",
       "            frameborder=\"0\"\n",
       "            allowfullscreen\n",
       "            \n",
       "        ></iframe>\n",
       "        "
      ],
      "text/plain": [
       "<IPython.lib.display.IFrame at 0x201e4b0b050>"
      ]
     },
     "metadata": {},
     "output_type": "display_data"
    }
   ],
   "source": [
    "import pandas as pd\n",
    "\n",
    "country_code = \"AL\"\n",
    "\n",
    "df_flags = pd.read_csv('flags_iso.csv')\n",
    "\n",
    "display(df_flags['Alpha-2 code'] == country_code)\n",
    "\n",
    "flag_url = df_flags.loc[df_flags['Alpha-2 code'] == country_code]['URL']\n",
    "flag_image = IFrame(src=flag_url.iat[0], width=200, height=100)\n",
    "\n",
    "display(flag_image)\n"
   ]
  },
  {
   "cell_type": "code",
   "execution_count": 11,
   "metadata": {},
   "outputs": [
    {
     "data": {
      "text/plain": [
       "143    https://www.worldometers.info//img/flags/small...\n",
       "Name: URL, dtype: object"
      ]
     },
     "metadata": {},
     "output_type": "display_data"
    },
    {
     "data": {
      "text/html": [
       "\n",
       "        <iframe\n",
       "            width=\"200\"\n",
       "            height=\"100\"\n",
       "            src=\"https://www.worldometers.info//img/flags/small/tn_ro-flag.gif\"\n",
       "            frameborder=\"0\"\n",
       "            allowfullscreen\n",
       "            \n",
       "        ></iframe>\n",
       "        "
      ],
      "text/plain": [
       "<IPython.lib.display.IFrame at 0x201e4b055d0>"
      ]
     },
     "metadata": {},
     "output_type": "display_data"
    }
   ],
   "source": [
    "import pandas as pd\n",
    "from IPython.display import IFrame\n",
    "\n",
    "df_flags = pd.read_csv('flags_iso.csv')\n",
    "\n",
    "country_code = \"RO\"\n",
    "\n",
    "flag_url = df_flags.loc[df_flags['Alpha-2 code'] == country_code]['URL']\n",
    "display(flag_url)\n",
    "\n",
    "flag_image = IFrame(src=flag_url.iat[0], width=200, height=100)\n",
    "display(flag_image)\n"
   ]
  },
  {
   "cell_type": "code",
   "execution_count": 12,
   "metadata": {},
   "outputs": [
    {
     "data": {
      "text/html": [
       "\n",
       "        <iframe\n",
       "            width=\"200\"\n",
       "            height=\"100\"\n",
       "            src=\"https://www.worldometers.info//img/flags/small/tn_us-flag.gif\"\n",
       "            frameborder=\"0\"\n",
       "            allowfullscreen\n",
       "            \n",
       "        ></iframe>\n",
       "        "
      ],
      "text/plain": [
       "<IPython.lib.display.IFrame at 0x201e4af1c10>"
      ]
     },
     "metadata": {},
     "output_type": "display_data"
    }
   ],
   "source": [
    "import pandas as pd\n",
    "df_flags = pd.read_csv('flags_iso.csv')\n",
    "\n",
    "country_code = \"US\"\n",
    "\n",
    "flag_url = df_flags.loc[df_flags['Alpha-2 code'] == country_code]['URL'].iat[0]\n",
    "flag_image = IFrame(src=flag_url, width=200, height=100)\n",
    "display(flag_image)"
   ]
  },
  {
   "cell_type": "code",
   "execution_count": 13,
   "metadata": {},
   "outputs": [
    {
     "name": "stdout",
     "output_type": "stream",
     "text": [
      "NR\n"
     ]
    },
    {
     "data": {
      "text/html": [
       "\n",
       "        <iframe\n",
       "            width=\"200\"\n",
       "            height=\"100\"\n",
       "            src=\"https://www.worldometers.info//img/flags/small/tn_nr-flag.gif\"\n",
       "            frameborder=\"0\"\n",
       "            allowfullscreen\n",
       "            \n",
       "        ></iframe>\n",
       "        "
      ],
      "text/plain": [
       "<IPython.lib.display.IFrame at 0x201bd5e9290>"
      ]
     },
     "metadata": {},
     "output_type": "display_data"
    }
   ],
   "source": [
    "import pandas as pd\n",
    "import random\n",
    "from IPython.display import IFrame\n",
    "\n",
    "df_flags = pd.read_csv('flags_iso.csv')\n",
    "\n",
    "country_codes = df_flags['Alpha-2 code'].to_list()\n",
    "\n",
    "country_code = random.choice(country_codes)\n",
    "print(country_code) \n",
    "\n",
    "flag_url = df_flags.loc[df_flags['Alpha-2 code'] == country_code]['URL'].iat[0]\n",
    "\n",
    "flag_image = IFrame(src=flag_url, width=200, height=100)\n",
    "display(flag_image)"
   ]
  },
  {
   "cell_type": "code",
   "execution_count": 22,
   "metadata": {},
   "outputs": [
    {
     "data": {
      "text/html": [
       "<div>\n",
       "<style scoped>\n",
       "    .dataframe tbody tr th:only-of-type {\n",
       "        vertical-align: middle;\n",
       "    }\n",
       "\n",
       "    .dataframe tbody tr th {\n",
       "        vertical-align: top;\n",
       "    }\n",
       "\n",
       "    .dataframe thead th {\n",
       "        text-align: right;\n",
       "    }\n",
       "</style>\n",
       "<table border=\"1\" class=\"dataframe\">\n",
       "  <thead>\n",
       "    <tr style=\"text-align: right;\">\n",
       "      <th></th>\n",
       "      <th>Country</th>\n",
       "      <th>URL</th>\n",
       "    </tr>\n",
       "  </thead>\n",
       "  <tbody>\n",
       "    <tr>\n",
       "      <th>0</th>\n",
       "      <td>Afghanistan</td>\n",
       "      <td>https://www.worldometers.info//img/flags/small...</td>\n",
       "    </tr>\n",
       "    <tr>\n",
       "      <th>1</th>\n",
       "      <td>Albania</td>\n",
       "      <td>https://www.worldometers.info//img/flags/small...</td>\n",
       "    </tr>\n",
       "    <tr>\n",
       "      <th>2</th>\n",
       "      <td>Algeria</td>\n",
       "      <td>https://www.worldometers.info//img/flags/small...</td>\n",
       "    </tr>\n",
       "    <tr>\n",
       "      <th>3</th>\n",
       "      <td>Andorra</td>\n",
       "      <td>https://www.worldometers.info//img/flags/small...</td>\n",
       "    </tr>\n",
       "    <tr>\n",
       "      <th>4</th>\n",
       "      <td>Angola</td>\n",
       "      <td>https://www.worldometers.info//img/flags/small...</td>\n",
       "    </tr>\n",
       "    <tr>\n",
       "      <th>...</th>\n",
       "      <td>...</td>\n",
       "      <td>...</td>\n",
       "    </tr>\n",
       "    <tr>\n",
       "      <th>190</th>\n",
       "      <td>Venezuela (Bolivarian Republic of)</td>\n",
       "      <td>https://www.worldometers.info//img/flags/small...</td>\n",
       "    </tr>\n",
       "    <tr>\n",
       "      <th>191</th>\n",
       "      <td>Viet Nam</td>\n",
       "      <td>https://www.worldometers.info//img/flags/small...</td>\n",
       "    </tr>\n",
       "    <tr>\n",
       "      <th>192</th>\n",
       "      <td>Yemen</td>\n",
       "      <td>https://www.worldometers.info//img/flags/small...</td>\n",
       "    </tr>\n",
       "    <tr>\n",
       "      <th>193</th>\n",
       "      <td>Zambia</td>\n",
       "      <td>https://www.worldometers.info//img/flags/small...</td>\n",
       "    </tr>\n",
       "    <tr>\n",
       "      <th>194</th>\n",
       "      <td>Zimbabwe</td>\n",
       "      <td>https://www.worldometers.info//img/flags/small...</td>\n",
       "    </tr>\n",
       "  </tbody>\n",
       "</table>\n",
       "<p>195 rows × 2 columns</p>\n",
       "</div>"
      ],
      "text/plain": [
       "                                Country  \\\n",
       "0                           Afghanistan   \n",
       "1                               Albania   \n",
       "2                               Algeria   \n",
       "3                               Andorra   \n",
       "4                                Angola   \n",
       "..                                  ...   \n",
       "190  Venezuela (Bolivarian Republic of)   \n",
       "191                            Viet Nam   \n",
       "192                               Yemen   \n",
       "193                              Zambia   \n",
       "194                            Zimbabwe   \n",
       "\n",
       "                                                   URL  \n",
       "0    https://www.worldometers.info//img/flags/small...  \n",
       "1    https://www.worldometers.info//img/flags/small...  \n",
       "2    https://www.worldometers.info//img/flags/small...  \n",
       "3    https://www.worldometers.info//img/flags/small...  \n",
       "4    https://www.worldometers.info//img/flags/small...  \n",
       "..                                                 ...  \n",
       "190  https://www.worldometers.info//img/flags/small...  \n",
       "191  https://www.worldometers.info//img/flags/small...  \n",
       "192  https://www.worldometers.info//img/flags/small...  \n",
       "193  https://www.worldometers.info//img/flags/small...  \n",
       "194  https://www.worldometers.info//img/flags/small...  \n",
       "\n",
       "[195 rows x 2 columns]"
      ]
     },
     "metadata": {},
     "output_type": "display_data"
    }
   ],
   "source": [
    "flag_url = df_flags[['Country','URL']]\n",
    "display(flag_url)"
   ]
  },
  {
   "cell_type": "code",
   "execution_count": 14,
   "metadata": {},
   "outputs": [],
   "source": [
    "# import pandas as pd\n",
    "# import random\n",
    "# from IPython.display import IFrame\n",
    "\n",
    "# df_flags = pd.read_csv('flags_iso.csv')\n",
    "\n",
    "# country_codes = df_flags['Alpha-2 code'].to_list()\n",
    "# country_code = random.choice(country_codes)\n",
    "\n",
    "# for n in range(0, len(country_codes)):\n",
    "\n",
    "#     flag_url = df_flags.loc[df_flags['Alpha-2 code'] == country_codes[n]]['URL'].iat[0]\n",
    "\n",
    "#     flag_image = IFrame(src=flag_url, width=200, height=100)\n",
    "#     display(flag_image, country_codes[n])\n",
    "#     # print(country_codes[n]) \n"
   ]
  }
 ],
 "metadata": {
  "kernelspec": {
   "display_name": "Python 3",
   "language": "python",
   "name": "python3"
  },
  "language_info": {
   "codemirror_mode": {
    "name": "ipython",
    "version": 3
   },
   "file_extension": ".py",
   "mimetype": "text/x-python",
   "name": "python",
   "nbconvert_exporter": "python",
   "pygments_lexer": "ipython3",
   "version": "3.11.4"
  }
 },
 "nbformat": 4,
 "nbformat_minor": 2
}
