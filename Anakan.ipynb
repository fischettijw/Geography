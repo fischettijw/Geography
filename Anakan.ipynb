{
 "cells": [
  {
   "cell_type": "code",
   "execution_count": 5,
   "metadata": {},
   "outputs": [
    {
     "data": {
      "text/html": [
       "\n",
       "        <iframe\n",
       "            width=\"200\"\n",
       "            height=\"100\"\n",
       "            src=\"https://www.worldometers.info//img/flags/small/tn_lt-flag.gif\"\n",
       "            frameborder=\"0\"\n",
       "            allowfullscreen\n",
       "            \n",
       "        ></iframe>\n",
       "        "
      ],
      "text/plain": [
       "<IPython.lib.display.IFrame at 0x247eee23890>"
      ]
     },
     "metadata": {},
     "output_type": "display_data"
    },
    {
     "name": "stdout",
     "output_type": "stream",
     "text": [
      "PG\n",
      "Sorry, 'PG' is incorrect. The correct answer is 'LS'.\n"
     ]
    }
   ],
   "source": [
    "import pandas as pd\n",
    "from IPython.display import IFrame\n",
    "from random import choice, shuffle\n",
    "df_flags = pd.read_csv(\"flags_iso.csv\")\n",
    "country_codes = df_flags[\"Alpha-2 code\"].to_list()\n",
    "country_code1 = choice(country_codes)\n",
    "country_code2 = choice(country_codes)\n",
    "country_code3 = choice(country_codes)\n",
    "country_code4 = choice(country_codes)\n",
    "choices = [country_code1,country_code2,country_code3,country_code4]\n",
    "shuffle(choices)\n",
    "answer = choices[0]\n",
    "shuffle(choices)\n",
    "flag_url = df_flags.loc[df_flags[\"Alpha-2 code\"]==answer][\"URL\"].iat[0]\n",
    "flag_image = IFrame(src=flag_url,width=200,height=100)\n",
    "display(flag_image)\n",
    "userChoice = input(\"What flag is this? \" + choices[0] + \", \" + choices[1] + \", \" + choices[2] + \" or \" + choices[3] + \"?\")\n",
    "userChoice = userChoice.upper()\n",
    "print(userChoice)\n",
    "if userChoice == answer:\n",
    "    print(f\"'{userChoice}' is Correct!\")\n",
    "else:\n",
    "    print(f\"Sorry, '{userChoice}' is incorrect. The correct answer is '{answer}'.\")\n"
   ]
  }
 ],
 "metadata": {
  "kernelspec": {
   "display_name": "Python 3",
   "language": "python",
   "name": "python3"
  },
  "language_info": {
   "codemirror_mode": {
    "name": "ipython",
    "version": 3
   },
   "file_extension": ".py",
   "mimetype": "text/x-python",
   "name": "python",
   "nbconvert_exporter": "python",
   "pygments_lexer": "ipython3",
   "version": "3.11.4"
  }
 },
 "nbformat": 4,
 "nbformat_minor": 2
}
